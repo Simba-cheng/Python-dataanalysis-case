{
 "cells": [
  {
   "cell_type": "markdown",
   "metadata": {},
   "source": [
    "### 加载数据、数据概览"
   ]
  },
  {
   "cell_type": "code",
   "execution_count": 70,
   "metadata": {},
   "outputs": [],
   "source": [
    "# 加载数据分析需要使用的库\n",
    "import numpy as np\n",
    "import pandas as pd\n",
    "import matplotlib.pyplot as plt\n",
    "\n",
    "# dataframe 不采用科学计数，保留小数点后2位\n",
    "pd.set_option('display.float_format', lambda x: '%.2f' % x)"
   ]
  },
  {
   "cell_type": "code",
   "execution_count": 71,
   "metadata": {},
   "outputs": [
    {
     "data": {
      "text/html": [
       "<div>\n",
       "<style scoped>\n",
       "    .dataframe tbody tr th:only-of-type {\n",
       "        vertical-align: middle;\n",
       "    }\n",
       "\n",
       "    .dataframe tbody tr th {\n",
       "        vertical-align: top;\n",
       "    }\n",
       "\n",
       "    .dataframe thead th {\n",
       "        text-align: right;\n",
       "    }\n",
       "</style>\n",
       "<table border=\"1\" class=\"dataframe\">\n",
       "  <thead>\n",
       "    <tr style=\"text-align: right;\">\n",
       "      <th></th>\n",
       "      <th>orderId</th>\n",
       "      <th>userId</th>\n",
       "      <th>productId</th>\n",
       "      <th>cityId</th>\n",
       "      <th>price</th>\n",
       "      <th>payMoney</th>\n",
       "      <th>channelId</th>\n",
       "      <th>deviceType</th>\n",
       "      <th>createTime</th>\n",
       "      <th>payTime</th>\n",
       "    </tr>\n",
       "    <tr>\n",
       "      <th>id</th>\n",
       "      <th></th>\n",
       "      <th></th>\n",
       "      <th></th>\n",
       "      <th></th>\n",
       "      <th></th>\n",
       "      <th></th>\n",
       "      <th></th>\n",
       "      <th></th>\n",
       "      <th></th>\n",
       "      <th></th>\n",
       "    </tr>\n",
       "  </thead>\n",
       "  <tbody>\n",
       "    <tr>\n",
       "      <th>1</th>\n",
       "      <td>232148841</td>\n",
       "      <td>2794924</td>\n",
       "      <td>268</td>\n",
       "      <td>110001</td>\n",
       "      <td>35300</td>\n",
       "      <td>35300</td>\n",
       "      <td>9058255c90</td>\n",
       "      <td>3</td>\n",
       "      <td>2016-01-01 12:53:02</td>\n",
       "      <td>2016-01-01 12:53:24</td>\n",
       "    </tr>\n",
       "    <tr>\n",
       "      <th>2</th>\n",
       "      <td>222298971</td>\n",
       "      <td>1664684</td>\n",
       "      <td>801</td>\n",
       "      <td>330001</td>\n",
       "      <td>51200</td>\n",
       "      <td>49900</td>\n",
       "      <td>e0e6019897</td>\n",
       "      <td>2</td>\n",
       "      <td>2016-01-01 21:42:51</td>\n",
       "      <td>2016-01-01 21:43:30</td>\n",
       "    </tr>\n",
       "    <tr>\n",
       "      <th>3</th>\n",
       "      <td>211494392</td>\n",
       "      <td>2669372</td>\n",
       "      <td>934</td>\n",
       "      <td>220002</td>\n",
       "      <td>62100</td>\n",
       "      <td>62100</td>\n",
       "      <td>9058255c90</td>\n",
       "      <td>3</td>\n",
       "      <td>2016-01-01 14:10:13</td>\n",
       "      <td>2016-01-01 14:11:18</td>\n",
       "    </tr>\n",
       "    <tr>\n",
       "      <th>4</th>\n",
       "      <td>334575272</td>\n",
       "      <td>1924727</td>\n",
       "      <td>422</td>\n",
       "      <td>230001</td>\n",
       "      <td>50600</td>\n",
       "      <td>42000</td>\n",
       "      <td>46d5cea30d</td>\n",
       "      <td>2</td>\n",
       "      <td>2016-01-01 17:43:35</td>\n",
       "      <td>2016-01-01 17:43:53</td>\n",
       "    </tr>\n",
       "    <tr>\n",
       "      <th>5</th>\n",
       "      <td>144825651</td>\n",
       "      <td>4148671</td>\n",
       "      <td>473</td>\n",
       "      <td>130006</td>\n",
       "      <td>149100</td>\n",
       "      <td>142000</td>\n",
       "      <td>6ff1752b69</td>\n",
       "      <td>2</td>\n",
       "      <td>2016-01-01 18:52:04</td>\n",
       "      <td>2016-01-01 18:52:47</td>\n",
       "    </tr>\n",
       "  </tbody>\n",
       "</table>\n",
       "</div>"
      ],
      "text/plain": [
       "      orderId   userId  productId  cityId   price  payMoney   channelId  \\\n",
       "id                                                                        \n",
       "1   232148841  2794924        268  110001   35300     35300  9058255c90   \n",
       "2   222298971  1664684        801  330001   51200     49900  e0e6019897   \n",
       "3   211494392  2669372        934  220002   62100     62100  9058255c90   \n",
       "4   334575272  1924727        422  230001   50600     42000  46d5cea30d   \n",
       "5   144825651  4148671        473  130006  149100    142000  6ff1752b69   \n",
       "\n",
       "    deviceType           createTime              payTime  \n",
       "id                                                        \n",
       "1            3  2016-01-01 12:53:02  2016-01-01 12:53:24  \n",
       "2            2  2016-01-01 21:42:51  2016-01-01 21:43:30  \n",
       "3            3  2016-01-01 14:10:13  2016-01-01 14:11:18  \n",
       "4            2  2016-01-01 17:43:35  2016-01-01 17:43:53  \n",
       "5            2  2016-01-01 18:52:04  2016-01-01 18:52:47  "
      ]
     },
     "execution_count": 71,
     "metadata": {},
     "output_type": "execute_result"
    }
   ],
   "source": [
    "# 加载数据\n",
    "df = pd.read_csv('/Users/huanglong/Documents/data/order_info_2016.csv', index_col='id')\n",
    "df.head()"
   ]
  },
  {
   "cell_type": "markdown",
   "metadata": {},
   "source": [
    "加载之前先用文本编辑器看下数据的格式，首行是什么，分隔符是什么等。加载好数据之后，第一步先分别使用describe和info方法看下数据的大概分布"
   ]
  },
  {
   "cell_type": "code",
   "execution_count": 72,
   "metadata": {},
   "outputs": [
    {
     "data": {
      "text/html": [
       "<div>\n",
       "<style scoped>\n",
       "    .dataframe tbody tr th:only-of-type {\n",
       "        vertical-align: middle;\n",
       "    }\n",
       "\n",
       "    .dataframe tbody tr th {\n",
       "        vertical-align: top;\n",
       "    }\n",
       "\n",
       "    .dataframe thead th {\n",
       "        text-align: right;\n",
       "    }\n",
       "</style>\n",
       "<table border=\"1\" class=\"dataframe\">\n",
       "  <thead>\n",
       "    <tr style=\"text-align: right;\">\n",
       "      <th></th>\n",
       "      <th>orderId</th>\n",
       "      <th>userId</th>\n",
       "      <th>productId</th>\n",
       "      <th>cityId</th>\n",
       "      <th>price</th>\n",
       "      <th>payMoney</th>\n",
       "      <th>deviceType</th>\n",
       "    </tr>\n",
       "  </thead>\n",
       "  <tbody>\n",
       "    <tr>\n",
       "      <th>count</th>\n",
       "      <td>104557.00</td>\n",
       "      <td>104557.00</td>\n",
       "      <td>104557.00</td>\n",
       "      <td>104557.00</td>\n",
       "      <td>104557.00</td>\n",
       "      <td>104557.00</td>\n",
       "      <td>104557.00</td>\n",
       "    </tr>\n",
       "    <tr>\n",
       "      <th>mean</th>\n",
       "      <td>299334110.34</td>\n",
       "      <td>3270527.02</td>\n",
       "      <td>504.57</td>\n",
       "      <td>154410.95</td>\n",
       "      <td>91673.50</td>\n",
       "      <td>86866.89</td>\n",
       "      <td>2.39</td>\n",
       "    </tr>\n",
       "    <tr>\n",
       "      <th>std</th>\n",
       "      <td>51498178.17</td>\n",
       "      <td>41382084.91</td>\n",
       "      <td>288.13</td>\n",
       "      <td>72197.16</td>\n",
       "      <td>91588.36</td>\n",
       "      <td>90720.28</td>\n",
       "      <td>0.65</td>\n",
       "    </tr>\n",
       "    <tr>\n",
       "      <th>min</th>\n",
       "      <td>103562686.00</td>\n",
       "      <td>29306.00</td>\n",
       "      <td>0.00</td>\n",
       "      <td>30000.00</td>\n",
       "      <td>600.00</td>\n",
       "      <td>-1000.00</td>\n",
       "      <td>1.00</td>\n",
       "    </tr>\n",
       "    <tr>\n",
       "      <th>25%</th>\n",
       "      <td>263362656.00</td>\n",
       "      <td>2179538.00</td>\n",
       "      <td>254.00</td>\n",
       "      <td>100011.00</td>\n",
       "      <td>37900.00</td>\n",
       "      <td>33600.00</td>\n",
       "      <td>2.00</td>\n",
       "    </tr>\n",
       "    <tr>\n",
       "      <th>50%</th>\n",
       "      <td>298982775.00</td>\n",
       "      <td>2705995.00</td>\n",
       "      <td>507.00</td>\n",
       "      <td>150001.00</td>\n",
       "      <td>59200.00</td>\n",
       "      <td>55000.00</td>\n",
       "      <td>2.00</td>\n",
       "    </tr>\n",
       "    <tr>\n",
       "      <th>75%</th>\n",
       "      <td>334997153.00</td>\n",
       "      <td>3271237.00</td>\n",
       "      <td>758.00</td>\n",
       "      <td>220002.00</td>\n",
       "      <td>108000.00</td>\n",
       "      <td>104000.00</td>\n",
       "      <td>3.00</td>\n",
       "    </tr>\n",
       "    <tr>\n",
       "      <th>max</th>\n",
       "      <td>487142986.00</td>\n",
       "      <td>3072938760.00</td>\n",
       "      <td>1000.00</td>\n",
       "      <td>380001.00</td>\n",
       "      <td>2295600.00</td>\n",
       "      <td>2294200.00</td>\n",
       "      <td>6.00</td>\n",
       "    </tr>\n",
       "  </tbody>\n",
       "</table>\n",
       "</div>"
      ],
      "text/plain": [
       "           orderId        userId  productId    cityId      price   payMoney  \\\n",
       "count    104557.00     104557.00  104557.00 104557.00  104557.00  104557.00   \n",
       "mean  299334110.34    3270527.02     504.57 154410.95   91673.50   86866.89   \n",
       "std    51498178.17   41382084.91     288.13  72197.16   91588.36   90720.28   \n",
       "min   103562686.00      29306.00       0.00  30000.00     600.00   -1000.00   \n",
       "25%   263362656.00    2179538.00     254.00 100011.00   37900.00   33600.00   \n",
       "50%   298982775.00    2705995.00     507.00 150001.00   59200.00   55000.00   \n",
       "75%   334997153.00    3271237.00     758.00 220002.00  108000.00  104000.00   \n",
       "max   487142986.00 3072938760.00    1000.00 380001.00 2295600.00 2294200.00   \n",
       "\n",
       "       deviceType  \n",
       "count   104557.00  \n",
       "mean         2.39  \n",
       "std          0.65  \n",
       "min          1.00  \n",
       "25%          2.00  \n",
       "50%          2.00  \n",
       "75%          3.00  \n",
       "max          6.00  "
      ]
     },
     "execution_count": 72,
     "metadata": {},
     "output_type": "execute_result"
    }
   ],
   "source": [
    "df.describe()"
   ]
  },
  {
   "cell_type": "code",
   "execution_count": 73,
   "metadata": {},
   "outputs": [
    {
     "name": "stdout",
     "output_type": "stream",
     "text": [
      "<class 'pandas.core.frame.DataFrame'>\n",
      "Int64Index: 104557 entries, 1 to 104557\n",
      "Data columns (total 10 columns):\n",
      " #   Column      Non-Null Count   Dtype \n",
      "---  ------      --------------   ----- \n",
      " 0   orderId     104557 non-null  int64 \n",
      " 1   userId      104557 non-null  int64 \n",
      " 2   productId   104557 non-null  int64 \n",
      " 3   cityId      104557 non-null  int64 \n",
      " 4   price       104557 non-null  int64 \n",
      " 5   payMoney    104557 non-null  int64 \n",
      " 6   channelId   104549 non-null  object\n",
      " 7   deviceType  104557 non-null  int64 \n",
      " 8   createTime  104557 non-null  object\n",
      " 9   payTime     104557 non-null  object\n",
      "dtypes: int64(7), object(3)\n",
      "memory usage: 8.8+ MB\n"
     ]
    }
   ],
   "source": [
    "df.info()"
   ]
  },
  {
   "cell_type": "markdown",
   "metadata": {},
   "source": [
    "### 数据预处理\n",
    "#### order_id\n",
    "首先要做数据清洗。order_id在一个系统里是唯一值，先看下有没有重复值。"
   ]
  },
  {
   "cell_type": "code",
   "execution_count": 74,
   "metadata": {},
   "outputs": [
    {
     "data": {
      "text/plain": [
       "104530"
      ]
     },
     "execution_count": 74,
     "metadata": {},
     "output_type": "execute_result"
    }
   ],
   "source": [
    "# 注意：对一列取size属性的时候，返回的是行数，如果对于dataframe使用size，返回的是行乘以列的结果，也就是总的元素数\n",
    "df.orderId.unique().size"
   ]
  },
  {
   "cell_type": "code",
   "execution_count": 75,
   "metadata": {},
   "outputs": [
    {
     "data": {
      "text/plain": [
       "104557"
      ]
     },
     "execution_count": 75,
     "metadata": {},
     "output_type": "execute_result"
    }
   ],
   "source": [
    "df.orderId.size"
   ]
  },
  {
   "cell_type": "markdown",
   "metadata": {},
   "source": [
    "#### userId"
   ]
  },
  {
   "cell_type": "code",
   "execution_count": 76,
   "metadata": {},
   "outputs": [
    {
     "data": {
      "text/plain": [
       "102672"
      ]
     },
     "execution_count": 76,
     "metadata": {},
     "output_type": "execute_result"
    }
   ],
   "source": [
    "# 如果有重复值，一般最后处理，因为其他的列可能会影响到删除哪一条重复的记录\n",
    "# 先处理其他的列\n",
    "# userId我们只要从上面的describe和info看下值是不是在正常范围就行了\n",
    "# 对于订单数据，一个用户有可能有多个订单，重复值是合理的\n",
    "df.userId.unique().size"
   ]
  },
  {
   "cell_type": "markdown",
   "metadata": {},
   "source": [
    "#### productId"
   ]
  },
  {
   "cell_type": "code",
   "execution_count": 77,
   "metadata": {},
   "outputs": [
    {
     "data": {
      "text/plain": [
       "177"
      ]
     },
     "execution_count": 77,
     "metadata": {},
     "output_type": "execute_result"
    }
   ],
   "source": [
    "# productId最小值是0，先来看下值为0的记录数量；# 177条记录，数量不多，可能是因为商品的上架下架引起的，处理完其他值的时候我们把这些删掉\n",
    "df.productId[(df.productId == 0)].size"
   ]
  },
  {
   "cell_type": "markdown",
   "metadata": {},
   "source": [
    "#### cityId"
   ]
  },
  {
   "cell_type": "code",
   "execution_count": 78,
   "metadata": {},
   "outputs": [
    {
     "data": {
      "text/plain": [
       "331"
      ]
     },
     "execution_count": 78,
     "metadata": {},
     "output_type": "execute_result"
    }
   ],
   "source": [
    "# cityId类似于userId，值都在正常范围，不需要处理\n",
    "df.cityId.unique().size"
   ]
  },
  {
   "cell_type": "markdown",
   "metadata": {},
   "source": [
    "#### price"
   ]
  },
  {
   "cell_type": "code",
   "execution_count": 79,
   "metadata": {},
   "outputs": [],
   "source": [
    "# price没有空值，且都大于0，注意单位是分，我们把它变成元\n",
    "df.price = df.price / 100"
   ]
  },
  {
   "cell_type": "markdown",
   "metadata": {},
   "source": [
    "#### payMoney"
   ]
  },
  {
   "cell_type": "code",
   "execution_count": 80,
   "metadata": {},
   "outputs": [
    {
     "data": {
      "text/html": [
       "<div>\n",
       "<style scoped>\n",
       "    .dataframe tbody tr th:only-of-type {\n",
       "        vertical-align: middle;\n",
       "    }\n",
       "\n",
       "    .dataframe tbody tr th {\n",
       "        vertical-align: top;\n",
       "    }\n",
       "\n",
       "    .dataframe thead th {\n",
       "        text-align: right;\n",
       "    }\n",
       "</style>\n",
       "<table border=\"1\" class=\"dataframe\">\n",
       "  <thead>\n",
       "    <tr style=\"text-align: right;\">\n",
       "      <th></th>\n",
       "      <th>orderId</th>\n",
       "      <th>userId</th>\n",
       "      <th>productId</th>\n",
       "      <th>cityId</th>\n",
       "      <th>price</th>\n",
       "      <th>payMoney</th>\n",
       "      <th>channelId</th>\n",
       "      <th>deviceType</th>\n",
       "      <th>createTime</th>\n",
       "      <th>payTime</th>\n",
       "    </tr>\n",
       "    <tr>\n",
       "      <th>id</th>\n",
       "      <th></th>\n",
       "      <th></th>\n",
       "      <th></th>\n",
       "      <th></th>\n",
       "      <th></th>\n",
       "      <th></th>\n",
       "      <th></th>\n",
       "      <th></th>\n",
       "      <th></th>\n",
       "      <th></th>\n",
       "    </tr>\n",
       "  </thead>\n",
       "  <tbody>\n",
       "    <tr>\n",
       "      <th>25344</th>\n",
       "      <td>288096069</td>\n",
       "      <td>2145955</td>\n",
       "      <td>511</td>\n",
       "      <td>230014</td>\n",
       "      <td>111.00</td>\n",
       "      <td>-1000</td>\n",
       "      <td>df9f79c426</td>\n",
       "      <td>2</td>\n",
       "      <td>2016-03-11 21:32:54</td>\n",
       "      <td>2016-03-11 21:33:10</td>\n",
       "    </tr>\n",
       "    <tr>\n",
       "      <th>55044</th>\n",
       "      <td>296608442</td>\n",
       "      <td>4073997</td>\n",
       "      <td>385</td>\n",
       "      <td>120006</td>\n",
       "      <td>111.00</td>\n",
       "      <td>-1000</td>\n",
       "      <td>cbccc0808e</td>\n",
       "      <td>2</td>\n",
       "      <td>2016-05-24 08:52:04</td>\n",
       "      <td>2016-05-24 08:52:23</td>\n",
       "    </tr>\n",
       "    <tr>\n",
       "      <th>66897</th>\n",
       "      <td>316685479</td>\n",
       "      <td>1949907</td>\n",
       "      <td>554</td>\n",
       "      <td>60019</td>\n",
       "      <td>2084.00</td>\n",
       "      <td>-1000</td>\n",
       "      <td>9058255c90</td>\n",
       "      <td>3</td>\n",
       "      <td>2016-03-31 11:57:46</td>\n",
       "      <td>2016-03-31 11:57:46</td>\n",
       "    </tr>\n",
       "    <tr>\n",
       "      <th>72556</th>\n",
       "      <td>323229098</td>\n",
       "      <td>2894042</td>\n",
       "      <td>548</td>\n",
       "      <td>220008</td>\n",
       "      <td>114.00</td>\n",
       "      <td>-1000</td>\n",
       "      <td>41a4e91d29</td>\n",
       "      <td>2</td>\n",
       "      <td>2016-08-09 14:24:13</td>\n",
       "      <td>2016-08-09 14:24:26</td>\n",
       "    </tr>\n",
       "    <tr>\n",
       "      <th>81494</th>\n",
       "      <td>311194385</td>\n",
       "      <td>3370399</td>\n",
       "      <td>797</td>\n",
       "      <td>40001</td>\n",
       "      <td>116.00</td>\n",
       "      <td>-990</td>\n",
       "      <td>ea5648bbe2</td>\n",
       "      <td>1</td>\n",
       "      <td>2016-09-06 11:20:43</td>\n",
       "      <td>2016-09-06 11:21:31</td>\n",
       "    </tr>\n",
       "    <tr>\n",
       "      <th>87878</th>\n",
       "      <td>324068352</td>\n",
       "      <td>1873953</td>\n",
       "      <td>602</td>\n",
       "      <td>260003</td>\n",
       "      <td>292.00</td>\n",
       "      <td>-1000</td>\n",
       "      <td>9058255c90</td>\n",
       "      <td>3</td>\n",
       "      <td>2016-10-05 10:47:05</td>\n",
       "      <td>2016-10-05 10:47:05</td>\n",
       "    </tr>\n",
       "  </tbody>\n",
       "</table>\n",
       "</div>"
      ],
      "text/plain": [
       "         orderId   userId  productId  cityId   price  payMoney   channelId  \\\n",
       "id                                                                           \n",
       "25344  288096069  2145955        511  230014  111.00     -1000  df9f79c426   \n",
       "55044  296608442  4073997        385  120006  111.00     -1000  cbccc0808e   \n",
       "66897  316685479  1949907        554   60019 2084.00     -1000  9058255c90   \n",
       "72556  323229098  2894042        548  220008  114.00     -1000  41a4e91d29   \n",
       "81494  311194385  3370399        797   40001  116.00      -990  ea5648bbe2   \n",
       "87878  324068352  1873953        602  260003  292.00     -1000  9058255c90   \n",
       "\n",
       "       deviceType           createTime              payTime  \n",
       "id                                                           \n",
       "25344           2  2016-03-11 21:32:54  2016-03-11 21:33:10  \n",
       "55044           2  2016-05-24 08:52:04  2016-05-24 08:52:23  \n",
       "66897           3  2016-03-31 11:57:46  2016-03-31 11:57:46  \n",
       "72556           2  2016-08-09 14:24:13  2016-08-09 14:24:26  \n",
       "81494           1  2016-09-06 11:20:43  2016-09-06 11:21:31  \n",
       "87878           3  2016-10-05 10:47:05  2016-10-05 10:47:05  "
      ]
     },
     "execution_count": 80,
     "metadata": {},
     "output_type": "execute_result"
    }
   ],
   "source": [
    "# payMoney有负值，我们下单不可能是负值，所以这里对于负值的记录要删除掉\n",
    "# 展示负值的记录\n",
    "df[df.payMoney < 0]"
   ]
  },
  {
   "cell_type": "code",
   "execution_count": 81,
   "metadata": {},
   "outputs": [
    {
     "data": {
      "text/plain": [
       "Int64Index([], dtype='int64', name='id')"
      ]
     },
     "execution_count": 81,
     "metadata": {},
     "output_type": "execute_result"
    }
   ],
   "source": [
    "# 删除负值的记录\n",
    "df.drop(index=df[df.payMoney < 0].index, inplace=True)\n",
    "\n",
    "# 再看下，已经去除\n",
    "df[df.payMoney < 0].index"
   ]
  },
  {
   "cell_type": "code",
   "execution_count": 82,
   "metadata": {},
   "outputs": [],
   "source": [
    "# 变成元\n",
    "df.payMoney = df.payMoney / 100"
   ]
  },
  {
   "cell_type": "markdown",
   "metadata": {},
   "source": [
    "#### channelId"
   ]
  },
  {
   "cell_type": "code",
   "execution_count": 83,
   "metadata": {},
   "outputs": [
    {
     "data": {
      "text/html": [
       "<div>\n",
       "<style scoped>\n",
       "    .dataframe tbody tr th:only-of-type {\n",
       "        vertical-align: middle;\n",
       "    }\n",
       "\n",
       "    .dataframe tbody tr th {\n",
       "        vertical-align: top;\n",
       "    }\n",
       "\n",
       "    .dataframe thead th {\n",
       "        text-align: right;\n",
       "    }\n",
       "</style>\n",
       "<table border=\"1\" class=\"dataframe\">\n",
       "  <thead>\n",
       "    <tr style=\"text-align: right;\">\n",
       "      <th></th>\n",
       "      <th>orderId</th>\n",
       "      <th>userId</th>\n",
       "      <th>productId</th>\n",
       "      <th>cityId</th>\n",
       "      <th>price</th>\n",
       "      <th>payMoney</th>\n",
       "      <th>channelId</th>\n",
       "      <th>deviceType</th>\n",
       "      <th>createTime</th>\n",
       "      <th>payTime</th>\n",
       "    </tr>\n",
       "    <tr>\n",
       "      <th>id</th>\n",
       "      <th></th>\n",
       "      <th></th>\n",
       "      <th></th>\n",
       "      <th></th>\n",
       "      <th></th>\n",
       "      <th></th>\n",
       "      <th></th>\n",
       "      <th></th>\n",
       "      <th></th>\n",
       "      <th></th>\n",
       "    </tr>\n",
       "  </thead>\n",
       "  <tbody>\n",
       "    <tr>\n",
       "      <th>19086</th>\n",
       "      <td>284008366</td>\n",
       "      <td>3309847</td>\n",
       "      <td>698</td>\n",
       "      <td>240001</td>\n",
       "      <td>2164.00</td>\n",
       "      <td>2040.00</td>\n",
       "      <td>NaN</td>\n",
       "      <td>2</td>\n",
       "      <td>2016-03-08 22:36:12</td>\n",
       "      <td>2016-03-08 22:36:50</td>\n",
       "    </tr>\n",
       "    <tr>\n",
       "      <th>38175</th>\n",
       "      <td>287706890</td>\n",
       "      <td>2799815</td>\n",
       "      <td>823</td>\n",
       "      <td>70001</td>\n",
       "      <td>760.00</td>\n",
       "      <td>749.00</td>\n",
       "      <td>NaN</td>\n",
       "      <td>3</td>\n",
       "      <td>2016-06-10 22:30:18</td>\n",
       "      <td>2016-06-10 22:30:47</td>\n",
       "    </tr>\n",
       "    <tr>\n",
       "      <th>48073</th>\n",
       "      <td>248057459</td>\n",
       "      <td>3970570</td>\n",
       "      <td>142</td>\n",
       "      <td>130001</td>\n",
       "      <td>474.00</td>\n",
       "      <td>400.00</td>\n",
       "      <td>NaN</td>\n",
       "      <td>2</td>\n",
       "      <td>2016-03-30 12:59:03</td>\n",
       "      <td>2016-03-30 12:59:13</td>\n",
       "    </tr>\n",
       "    <tr>\n",
       "      <th>75949</th>\n",
       "      <td>266847859</td>\n",
       "      <td>3761925</td>\n",
       "      <td>649</td>\n",
       "      <td>120006</td>\n",
       "      <td>257.00</td>\n",
       "      <td>257.00</td>\n",
       "      <td>NaN</td>\n",
       "      <td>2</td>\n",
       "      <td>2016-08-19 08:46:22</td>\n",
       "      <td>2016-08-19 08:46:39</td>\n",
       "    </tr>\n",
       "    <tr>\n",
       "      <th>100952</th>\n",
       "      <td>283627429</td>\n",
       "      <td>4156620</td>\n",
       "      <td>269</td>\n",
       "      <td>280001</td>\n",
       "      <td>484.00</td>\n",
       "      <td>410.00</td>\n",
       "      <td>NaN</td>\n",
       "      <td>2</td>\n",
       "      <td>2016-12-13 13:24:37</td>\n",
       "      <td>2016-12-13 14:47:08</td>\n",
       "    </tr>\n",
       "    <tr>\n",
       "      <th>100953</th>\n",
       "      <td>346836140</td>\n",
       "      <td>3751526</td>\n",
       "      <td>738</td>\n",
       "      <td>100013</td>\n",
       "      <td>105.00</td>\n",
       "      <td>80.00</td>\n",
       "      <td>NaN</td>\n",
       "      <td>1</td>\n",
       "      <td>2016-12-13 13:47:34</td>\n",
       "      <td>2016-12-13 13:47:44</td>\n",
       "    </tr>\n",
       "    <tr>\n",
       "      <th>100954</th>\n",
       "      <td>352853915</td>\n",
       "      <td>2229389</td>\n",
       "      <td>786</td>\n",
       "      <td>240001</td>\n",
       "      <td>474.00</td>\n",
       "      <td>440.00</td>\n",
       "      <td>NaN</td>\n",
       "      <td>2</td>\n",
       "      <td>2016-12-13 16:54:09</td>\n",
       "      <td>2016-12-13 16:55:00</td>\n",
       "    </tr>\n",
       "    <tr>\n",
       "      <th>100955</th>\n",
       "      <td>379473081</td>\n",
       "      <td>4531810</td>\n",
       "      <td>18</td>\n",
       "      <td>180009</td>\n",
       "      <td>146.00</td>\n",
       "      <td>50.00</td>\n",
       "      <td>NaN</td>\n",
       "      <td>3</td>\n",
       "      <td>2016-12-13 20:18:22</td>\n",
       "      <td>2016-12-13 20:18:34</td>\n",
       "    </tr>\n",
       "  </tbody>\n",
       "</table>\n",
       "</div>"
      ],
      "text/plain": [
       "          orderId   userId  productId  cityId   price  payMoney channelId  \\\n",
       "id                                                                          \n",
       "19086   284008366  3309847        698  240001 2164.00   2040.00       NaN   \n",
       "38175   287706890  2799815        823   70001  760.00    749.00       NaN   \n",
       "48073   248057459  3970570        142  130001  474.00    400.00       NaN   \n",
       "75949   266847859  3761925        649  120006  257.00    257.00       NaN   \n",
       "100952  283627429  4156620        269  280001  484.00    410.00       NaN   \n",
       "100953  346836140  3751526        738  100013  105.00     80.00       NaN   \n",
       "100954  352853915  2229389        786  240001  474.00    440.00       NaN   \n",
       "100955  379473081  4531810         18  180009  146.00     50.00       NaN   \n",
       "\n",
       "        deviceType           createTime              payTime  \n",
       "id                                                            \n",
       "19086            2  2016-03-08 22:36:12  2016-03-08 22:36:50  \n",
       "38175            3  2016-06-10 22:30:18  2016-06-10 22:30:47  \n",
       "48073            2  2016-03-30 12:59:03  2016-03-30 12:59:13  \n",
       "75949            2  2016-08-19 08:46:22  2016-08-19 08:46:39  \n",
       "100952           2  2016-12-13 13:24:37  2016-12-13 14:47:08  \n",
       "100953           1  2016-12-13 13:47:34  2016-12-13 13:47:44  \n",
       "100954           2  2016-12-13 16:54:09  2016-12-13 16:55:00  \n",
       "100955           3  2016-12-13 20:18:22  2016-12-13 20:18:34  "
      ]
     },
     "execution_count": 83,
     "metadata": {},
     "output_type": "execute_result"
    }
   ],
   "source": [
    "# channelId根据info的结果，有些null的数据，可能是端的bug等原因，在下单的时候没有传channelId字段\n",
    "# 数据量大的时候，删掉少量的null记录不会影响统计结果，这里我们直接删除\n",
    "df[df.channelId.isnull()]"
   ]
  },
  {
   "cell_type": "code",
   "execution_count": 84,
   "metadata": {},
   "outputs": [
    {
     "data": {
      "text/html": [
       "<div>\n",
       "<style scoped>\n",
       "    .dataframe tbody tr th:only-of-type {\n",
       "        vertical-align: middle;\n",
       "    }\n",
       "\n",
       "    .dataframe tbody tr th {\n",
       "        vertical-align: top;\n",
       "    }\n",
       "\n",
       "    .dataframe thead th {\n",
       "        text-align: right;\n",
       "    }\n",
       "</style>\n",
       "<table border=\"1\" class=\"dataframe\">\n",
       "  <thead>\n",
       "    <tr style=\"text-align: right;\">\n",
       "      <th></th>\n",
       "      <th>orderId</th>\n",
       "      <th>userId</th>\n",
       "      <th>productId</th>\n",
       "      <th>cityId</th>\n",
       "      <th>price</th>\n",
       "      <th>payMoney</th>\n",
       "      <th>channelId</th>\n",
       "      <th>deviceType</th>\n",
       "      <th>createTime</th>\n",
       "      <th>payTime</th>\n",
       "    </tr>\n",
       "    <tr>\n",
       "      <th>id</th>\n",
       "      <th></th>\n",
       "      <th></th>\n",
       "      <th></th>\n",
       "      <th></th>\n",
       "      <th></th>\n",
       "      <th></th>\n",
       "      <th></th>\n",
       "      <th></th>\n",
       "      <th></th>\n",
       "      <th></th>\n",
       "    </tr>\n",
       "  </thead>\n",
       "  <tbody>\n",
       "  </tbody>\n",
       "</table>\n",
       "</div>"
      ],
      "text/plain": [
       "Empty DataFrame\n",
       "Columns: [orderId, userId, productId, cityId, price, payMoney, channelId, deviceType, createTime, payTime]\n",
       "Index: []"
      ]
     },
     "execution_count": 84,
     "metadata": {},
     "output_type": "execute_result"
    }
   ],
   "source": [
    "# 删除\n",
    "df.drop(index=df[df.channelId.isnull()].index, inplace=True)\n",
    "\n",
    "# 再查看，已经没有null数据\n",
    "df[df.channelId.isnull()]"
   ]
  },
  {
   "cell_type": "markdown",
   "metadata": {},
   "source": [
    "createTime 和 payTime 都没有 null，不过我们是要统计 2016 年的数据，所以把非2016年的删掉。payTime 类似，这里只按创建订单的时间算，就不处理了\n",
    "先把 createTime 和 payTime 转换成 datetime 格式。"
   ]
  },
  {
   "cell_type": "code",
   "execution_count": 85,
   "metadata": {},
   "outputs": [
    {
     "data": {
      "text/plain": [
       "orderId                int64\n",
       "userId                 int64\n",
       "productId              int64\n",
       "cityId                 int64\n",
       "price                float64\n",
       "payMoney             float64\n",
       "channelId             object\n",
       "deviceType             int64\n",
       "createTime    datetime64[ns]\n",
       "payTime       datetime64[ns]\n",
       "dtype: object"
      ]
     },
     "execution_count": 85,
     "metadata": {},
     "output_type": "execute_result"
    }
   ],
   "source": [
    "df.createTime = pd.to_datetime(df.createTime)\n",
    "df.payTime = pd.to_datetime(df.payTime)\n",
    "df.dtypes"
   ]
  },
  {
   "cell_type": "code",
   "execution_count": 86,
   "metadata": {},
   "outputs": [
    {
     "data": {
      "text/html": [
       "<div>\n",
       "<style scoped>\n",
       "    .dataframe tbody tr th:only-of-type {\n",
       "        vertical-align: middle;\n",
       "    }\n",
       "\n",
       "    .dataframe tbody tr th {\n",
       "        vertical-align: top;\n",
       "    }\n",
       "\n",
       "    .dataframe thead th {\n",
       "        text-align: right;\n",
       "    }\n",
       "</style>\n",
       "<table border=\"1\" class=\"dataframe\">\n",
       "  <thead>\n",
       "    <tr style=\"text-align: right;\">\n",
       "      <th></th>\n",
       "      <th>orderId</th>\n",
       "      <th>userId</th>\n",
       "      <th>productId</th>\n",
       "      <th>cityId</th>\n",
       "      <th>price</th>\n",
       "      <th>payMoney</th>\n",
       "      <th>channelId</th>\n",
       "      <th>deviceType</th>\n",
       "      <th>createTime</th>\n",
       "      <th>payTime</th>\n",
       "    </tr>\n",
       "    <tr>\n",
       "      <th>id</th>\n",
       "      <th></th>\n",
       "      <th></th>\n",
       "      <th></th>\n",
       "      <th></th>\n",
       "      <th></th>\n",
       "      <th></th>\n",
       "      <th></th>\n",
       "      <th></th>\n",
       "      <th></th>\n",
       "      <th></th>\n",
       "    </tr>\n",
       "  </thead>\n",
       "  <tbody>\n",
       "    <tr>\n",
       "      <th>53</th>\n",
       "      <td>263312190</td>\n",
       "      <td>2497737</td>\n",
       "      <td>583</td>\n",
       "      <td>180015</td>\n",
       "      <td>336.00</td>\n",
       "      <td>336.00</td>\n",
       "      <td>9058255c90</td>\n",
       "      <td>3</td>\n",
       "      <td>2015-08-14 09:40:34</td>\n",
       "      <td>2016-01-01 14:47:14</td>\n",
       "    </tr>\n",
       "    <tr>\n",
       "      <th>18669</th>\n",
       "      <td>188208169</td>\n",
       "      <td>3277974</td>\n",
       "      <td>82</td>\n",
       "      <td>60021</td>\n",
       "      <td>752.00</td>\n",
       "      <td>740.00</td>\n",
       "      <td>9058255c90</td>\n",
       "      <td>3</td>\n",
       "      <td>2015-11-02 20:17:25</td>\n",
       "      <td>2016-01-19 20:06:35</td>\n",
       "    </tr>\n",
       "    <tr>\n",
       "      <th>36650</th>\n",
       "      <td>254118088</td>\n",
       "      <td>1861372</td>\n",
       "      <td>64</td>\n",
       "      <td>210010</td>\n",
       "      <td>249.00</td>\n",
       "      <td>249.00</td>\n",
       "      <td>9058255c90</td>\n",
       "      <td>2</td>\n",
       "      <td>2015-02-14 12:20:36</td>\n",
       "      <td>2016-02-28 13:38:41</td>\n",
       "    </tr>\n",
       "    <tr>\n",
       "      <th>71638</th>\n",
       "      <td>203314910</td>\n",
       "      <td>3207233</td>\n",
       "      <td>302</td>\n",
       "      <td>180011</td>\n",
       "      <td>662.00</td>\n",
       "      <td>580.00</td>\n",
       "      <td>41a4e91d29</td>\n",
       "      <td>1</td>\n",
       "      <td>2015-11-19 10:36:39</td>\n",
       "      <td>2016-08-07 12:24:35</td>\n",
       "    </tr>\n",
       "    <tr>\n",
       "      <th>88692</th>\n",
       "      <td>283989279</td>\n",
       "      <td>2830413</td>\n",
       "      <td>290</td>\n",
       "      <td>330005</td>\n",
       "      <td>467.00</td>\n",
       "      <td>460.00</td>\n",
       "      <td>df9f79c426</td>\n",
       "      <td>2</td>\n",
       "      <td>2015-12-26 11:19:16</td>\n",
       "      <td>2016-10-01 07:42:43</td>\n",
       "    </tr>\n",
       "  </tbody>\n",
       "</table>\n",
       "</div>"
      ],
      "text/plain": [
       "         orderId   userId  productId  cityId  price  payMoney   channelId  \\\n",
       "id                                                                          \n",
       "53     263312190  2497737        583  180015 336.00    336.00  9058255c90   \n",
       "18669  188208169  3277974         82   60021 752.00    740.00  9058255c90   \n",
       "36650  254118088  1861372         64  210010 249.00    249.00  9058255c90   \n",
       "71638  203314910  3207233        302  180011 662.00    580.00  41a4e91d29   \n",
       "88692  283989279  2830413        290  330005 467.00    460.00  df9f79c426   \n",
       "\n",
       "       deviceType          createTime             payTime  \n",
       "id                                                         \n",
       "53              3 2015-08-14 09:40:34 2016-01-01 14:47:14  \n",
       "18669           3 2015-11-02 20:17:25 2016-01-19 20:06:35  \n",
       "36650           2 2015-02-14 12:20:36 2016-02-28 13:38:41  \n",
       "71638           1 2015-11-19 10:36:39 2016-08-07 12:24:35  \n",
       "88692           2 2015-12-26 11:19:16 2016-10-01 07:42:43  "
      ]
     },
     "execution_count": 86,
     "metadata": {},
     "output_type": "execute_result"
    }
   ],
   "source": [
    "import datetime\n",
    "startTime = datetime.datetime(2016, 1, 1)\n",
    "endTime = datetime.datetime(2016, 12, 31, 23, 59, 59)\n",
    "\n",
    "# 有16年之前的数据，需要删掉\n",
    "df[df.createTime < startTime]"
   ]
  },
  {
   "cell_type": "code",
   "execution_count": 87,
   "metadata": {},
   "outputs": [
    {
     "data": {
      "text/html": [
       "<div>\n",
       "<style scoped>\n",
       "    .dataframe tbody tr th:only-of-type {\n",
       "        vertical-align: middle;\n",
       "    }\n",
       "\n",
       "    .dataframe tbody tr th {\n",
       "        vertical-align: top;\n",
       "    }\n",
       "\n",
       "    .dataframe thead th {\n",
       "        text-align: right;\n",
       "    }\n",
       "</style>\n",
       "<table border=\"1\" class=\"dataframe\">\n",
       "  <thead>\n",
       "    <tr style=\"text-align: right;\">\n",
       "      <th></th>\n",
       "      <th>orderId</th>\n",
       "      <th>userId</th>\n",
       "      <th>productId</th>\n",
       "      <th>cityId</th>\n",
       "      <th>price</th>\n",
       "      <th>payMoney</th>\n",
       "      <th>channelId</th>\n",
       "      <th>deviceType</th>\n",
       "      <th>createTime</th>\n",
       "      <th>payTime</th>\n",
       "    </tr>\n",
       "    <tr>\n",
       "      <th>id</th>\n",
       "      <th></th>\n",
       "      <th></th>\n",
       "      <th></th>\n",
       "      <th></th>\n",
       "      <th></th>\n",
       "      <th></th>\n",
       "      <th></th>\n",
       "      <th></th>\n",
       "      <th></th>\n",
       "      <th></th>\n",
       "    </tr>\n",
       "  </thead>\n",
       "  <tbody>\n",
       "  </tbody>\n",
       "</table>\n",
       "</div>"
      ],
      "text/plain": [
       "Empty DataFrame\n",
       "Columns: [orderId, userId, productId, cityId, price, payMoney, channelId, deviceType, createTime, payTime]\n",
       "Index: []"
      ]
     },
     "execution_count": 87,
     "metadata": {},
     "output_type": "execute_result"
    }
   ],
   "source": [
    "df.drop(index=df[df.createTime < startTime].index, inplace=True)\n",
    "\n",
    "# 查看数据，已经删除\n",
    "df[df.createTime < startTime]"
   ]
  },
  {
   "cell_type": "code",
   "execution_count": 88,
   "metadata": {},
   "outputs": [
    {
     "data": {
      "text/html": [
       "<div>\n",
       "<style scoped>\n",
       "    .dataframe tbody tr th:only-of-type {\n",
       "        vertical-align: middle;\n",
       "    }\n",
       "\n",
       "    .dataframe tbody tr th {\n",
       "        vertical-align: top;\n",
       "    }\n",
       "\n",
       "    .dataframe thead th {\n",
       "        text-align: right;\n",
       "    }\n",
       "</style>\n",
       "<table border=\"1\" class=\"dataframe\">\n",
       "  <thead>\n",
       "    <tr style=\"text-align: right;\">\n",
       "      <th></th>\n",
       "      <th>orderId</th>\n",
       "      <th>userId</th>\n",
       "      <th>productId</th>\n",
       "      <th>cityId</th>\n",
       "      <th>price</th>\n",
       "      <th>payMoney</th>\n",
       "      <th>channelId</th>\n",
       "      <th>deviceType</th>\n",
       "      <th>createTime</th>\n",
       "      <th>payTime</th>\n",
       "    </tr>\n",
       "    <tr>\n",
       "      <th>id</th>\n",
       "      <th></th>\n",
       "      <th></th>\n",
       "      <th></th>\n",
       "      <th></th>\n",
       "      <th></th>\n",
       "      <th></th>\n",
       "      <th></th>\n",
       "      <th></th>\n",
       "      <th></th>\n",
       "      <th></th>\n",
       "    </tr>\n",
       "  </thead>\n",
       "  <tbody>\n",
       "  </tbody>\n",
       "</table>\n",
       "</div>"
      ],
      "text/plain": [
       "Empty DataFrame\n",
       "Columns: [orderId, userId, productId, cityId, price, payMoney, channelId, deviceType, createTime, payTime]\n",
       "Index: []"
      ]
     },
     "execution_count": 88,
     "metadata": {},
     "output_type": "execute_result"
    }
   ],
   "source": [
    "# payTime早于createTime的也需要删掉\n",
    "df.drop(index=df[df.createTime > df.payTime].index, inplace=True)\n",
    "\n",
    "# 处理16年之后的数据\n",
    "df[df.createTime > endTime]\n",
    "\n",
    "\n",
    "# 看下支付时间有没有16年以前的，支付时间在16年之后的这里就不需要处理\n",
    "df[df.payTime < startTime]"
   ]
  },
  {
   "cell_type": "code",
   "execution_count": 89,
   "metadata": {},
   "outputs": [
    {
     "data": {
      "text/plain": [
       "104506"
      ]
     },
     "execution_count": 89,
     "metadata": {},
     "output_type": "execute_result"
    }
   ],
   "source": [
    "# 把orderId重复的记录删掉\n",
    "df.orderId.unique().size\n",
    "df.orderId.size\n",
    "df.drop(index=df[df.orderId.duplicated()].index, inplace=True)\n",
    "df.orderId.unique().size"
   ]
  },
  {
   "cell_type": "code",
   "execution_count": 90,
   "metadata": {},
   "outputs": [],
   "source": [
    "# 把productId为0的也删除掉\n",
    "df.drop(index=df[df.productId==0].index, inplace=True)"
   ]
  },
  {
   "cell_type": "markdown",
   "metadata": {},
   "source": [
    "### 数据分析"
   ]
  },
  {
   "cell_type": "code",
   "execution_count": 91,
   "metadata": {},
   "outputs": [
    {
     "name": "stdout",
     "output_type": "stream",
     "text": [
      "104329\n",
      "102447\n",
      "906663.997\n",
      "1000\n"
     ]
    }
   ],
   "source": [
    "# 一般都是先看下数据的总体情况总体情况\n",
    "# 总订单数，总下单用户，总销售额，有流水的商品数\n",
    "print(df.orderId.count())\n",
    "print(df.userId.unique().size)\n",
    "print(df.payMoney.sum()/100)\n",
    "print(df.productId.unique().size)"
   ]
  },
  {
   "cell_type": "code",
   "execution_count": 92,
   "metadata": {},
   "outputs": [
    {
     "name": "stdout",
     "output_type": "stream",
     "text": [
      "productId\n",
      "895    354\n",
      "762    350\n",
      "103    334\n",
      "587    303\n",
      "385    302\n",
      "60     301\n",
      "38     301\n",
      "403    297\n",
      "345    292\n",
      "823    288\n",
      "Name: orderId, dtype: int64\n",
      "productId\n",
      "948     29\n",
      "856     28\n",
      "621     27\n",
      "272     26\n",
      "563     24\n",
      "347     21\n",
      "597     19\n",
      "468     18\n",
      "986     16\n",
      "1000    13\n",
      "Name: orderId, dtype: int64\n",
      "productId\n",
      "385   427522.10\n",
      "61    361572.00\n",
      "103   344641.20\n",
      "405   339525.00\n",
      "720   322405.10\n",
      "345   320162.20\n",
      "698   318458.60\n",
      "182   296600.00\n",
      "383   280790.00\n",
      "396   269556.00\n",
      "Name: payMoney, dtype: float64\n",
      "productId\n",
      "310    22879.00\n",
      "847    22869.00\n",
      "454    22535.00\n",
      "817    22509.00\n",
      "597    21847.00\n",
      "408    18111.00\n",
      "986    14784.00\n",
      "964    14238.00\n",
      "1000   12169.00\n",
      "347    12070.00\n",
      "Name: payMoney, dtype: float64\n"
     ]
    }
   ],
   "source": [
    "# 分析数据可以从两方面开始考虑，一个是维度，一个是指标，维度可以看做x轴，指标可以看成是y轴，同一个维度可以分析多个指标，同一个维度也可以做降维升维。\n",
    "\n",
    "# 按照商品的productId\n",
    "# 先看下商品销量的前十和后十个\n",
    "productId_orderCount = df.groupby('productId').count()['orderId'].sort_values(ascending=False)\n",
    "print(productId_orderCount.head(10))\n",
    "print(productId_orderCount.tail(10))\n",
    "# 销售额\n",
    "productId_turnover = df.groupby('productId').sum()['payMoney'].sort_values(ascending=False)\n",
    "print(productId_turnover.head(10))\n",
    "print(productId_turnover.tail(10))"
   ]
  },
  {
   "cell_type": "code",
   "execution_count": 93,
   "metadata": {},
   "outputs": [],
   "source": [
    "# 看下销量和销售额最后100个的交集，如果销量和销售额都不行，这些商品需要看看是不是要优化或者下架\n",
    "problem_productIds = productId_turnover.tail(100).index.intersection(productId_orderCount.tail(100).index)\n",
    "\n",
    "# 城市的分析可以和商品维度类似\n",
    "cityId_orderCount = df.groupby('cityId').count()['orderId'].sort_values(ascending=False)\n",
    "cityId_payMoney = df.groupby('cityId').sum()['payMoney'].sort_values(ascending=False)"
   ]
  },
  {
   "cell_type": "code",
   "execution_count": 94,
   "metadata": {},
   "outputs": [
    {
     "data": {
      "text/plain": [
       "(400, 500]        14791\n",
       "(300, 400]        10737\n",
       "(200, 300]         9966\n",
       "(500, 600]         9189\n",
       "(600, 700]         8777\n",
       "(100, 200]         7123\n",
       "(700, 800]         7111\n",
       "(1000, 1100]       4772\n",
       "(900, 1000]        3218\n",
       "(2000, 2100]       2815\n",
       "(800, 900]         2813\n",
       "(1700, 1800]       2221\n",
       "(1300, 1400]       1865\n",
       "(1900, 2000]       1814\n",
       "(1100, 1200]       1790\n",
       "(1600, 1700]       1783\n",
       "(1400, 1500]       1637\n",
       "(3000, 3100]       1197\n",
       "(1200, 1300]       1185\n",
       "(0, 100]           1025\n",
       "(2700, 2800]        821\n",
       "(2900, 3000]        743\n",
       "(2600, 2700]        708\n",
       "(1800, 1900]        657\n",
       "(2100, 2200]        622\n",
       "(1500, 1600]        579\n",
       "(4000, 4100]        509\n",
       "(2400, 2500]        476\n",
       "(3900, 4000]        363\n",
       "(2200, 2300]        285\n",
       "(2300, 2400]        284\n",
       "(3100, 3200]        246\n",
       "(3700, 3800]        214\n",
       "(2500, 2600]        189\n",
       "(2800, 2900]        179\n",
       "(5000, 5100]        153\n",
       "(3300, 3400]        120\n",
       "(3600, 3700]        108\n",
       "(3400, 3500]        106\n",
       "(3200, 3300]        104\n",
       "(4100, 4200]         92\n",
       "(3800, 3900]         90\n",
       "(4200, 4300]         68\n",
       "(4900, 5000]         66\n",
       "(4600, 4700]         52\n",
       "(6000, 6100]         51\n",
       "(5100, 5200]         50\n",
       "(6700, 6800]         47\n",
       "(4700, 4800]         45\n",
       "(3500, 3600]         41\n",
       "(5900, 6000]         40\n",
       "(7000, 7100]         32\n",
       "(4400, 4500]         31\n",
       "(6900, 7000]         28\n",
       "(4300, 4400]         24\n",
       "(5300, 5400]         23\n",
       "(5600, 5700]         22\n",
       "(8900, 9000]         16\n",
       "(5200, 5300]         16\n",
       "(5400, 5500]         16\n",
       "(4800, 4900]         15\n",
       "(6100, 6200]         13\n",
       "(4500, 4600]         11\n",
       "(8000, 8100]         11\n",
       "(9000, 9100]         11\n",
       "(10000, 10100]       11\n",
       "(5700, 5800]         10\n",
       "(5800, 5900]         10\n",
       "(6300, 6400]         10\n",
       "(7900, 8000]          9\n",
       "(9100, 9200]          8\n",
       "(6200, 6300]          8\n",
       "(6800, 6900]          6\n",
       "(6500, 6600]          6\n",
       "(7100, 7200]          6\n",
       "(7800, 7900]          6\n",
       "(11000, 11100]        4\n",
       "(7200, 7300]          3\n",
       "(9200, 9300]          3\n",
       "(6600, 6700]          3\n",
       "(13000, 13100]        2\n",
       "(6400, 6500]          2\n",
       "(9900, 10000]         2\n",
       "(22900, 23000]        2\n",
       "(13200, 13300]        1\n",
       "(10900, 11000]        1\n",
       "(8600, 8700]          1\n",
       "(10100, 10200]        1\n",
       "(8700, 8800]          1\n",
       "(13900, 14000]        1\n",
       "(12700, 12800]        1\n",
       "(8100, 8200]          1\n",
       "(7600, 7700]          1\n",
       "(7500, 7600]          1\n",
       "(5500, 5600]          1\n",
       "(18900, 19000]        1\n",
       "(11300, 11400]        0\n",
       "(10800, 10900]        0\n",
       "(10600, 10700]        0\n",
       "(10700, 10800]        0\n",
       "(11800, 11900]        0\n",
       "(10500, 10600]        0\n",
       "(11700, 11800]        0\n",
       "(11400, 11500]        0\n",
       "(11100, 11200]        0\n",
       "(11200, 11300]        0\n",
       "(11500, 11600]        0\n",
       "(11600, 11700]        0\n",
       "(8300, 8400]          0\n",
       "(10400, 10500]        0\n",
       "(10300, 10400]        0\n",
       "(12000, 12100]        0\n",
       "(7300, 7400]          0\n",
       "(7400, 7500]          0\n",
       "(7700, 7800]          0\n",
       "(8200, 8300]          0\n",
       "(8400, 8500]          0\n",
       "(8500, 8600]          0\n",
       "(8800, 8900]          0\n",
       "(9300, 9400]          0\n",
       "(9400, 9500]          0\n",
       "(9500, 9600]          0\n",
       "(9600, 9700]          0\n",
       "(9700, 9800]          0\n",
       "(9800, 9900]          0\n",
       "(10200, 10300]        0\n",
       "(11900, 12000]        0\n",
       "(24800, 24900]        0\n",
       "(12100, 12200]        0\n",
       "(18600, 18700]        0\n",
       "(21500, 21600]        0\n",
       "(21400, 21500]        0\n",
       "(21300, 21400]        0\n",
       "(21200, 21300]        0\n",
       "(21100, 21200]        0\n",
       "(21000, 21100]        0\n",
       "(20900, 21000]        0\n",
       "(20800, 20900]        0\n",
       "(20700, 20800]        0\n",
       "(20600, 20700]        0\n",
       "(20500, 20600]        0\n",
       "(20400, 20500]        0\n",
       "(20300, 20400]        0\n",
       "(20200, 20300]        0\n",
       "(20100, 20200]        0\n",
       "(20000, 20100]        0\n",
       "(19900, 20000]        0\n",
       "(19800, 19900]        0\n",
       "(19700, 19800]        0\n",
       "(19600, 19700]        0\n",
       "(19500, 19600]        0\n",
       "(19400, 19500]        0\n",
       "(19300, 19400]        0\n",
       "(19200, 19300]        0\n",
       "(19100, 19200]        0\n",
       "(19000, 19100]        0\n",
       "(18800, 18900]        0\n",
       "(21600, 21700]        0\n",
       "(21700, 21800]        0\n",
       "(21800, 21900]        0\n",
       "(23400, 23500]        0\n",
       "(24600, 24700]        0\n",
       "(24500, 24600]        0\n",
       "(24400, 24500]        0\n",
       "(24300, 24400]        0\n",
       "(24200, 24300]        0\n",
       "(24100, 24200]        0\n",
       "(24000, 24100]        0\n",
       "(23900, 24000]        0\n",
       "(23800, 23900]        0\n",
       "(23700, 23800]        0\n",
       "(23600, 23700]        0\n",
       "(23500, 23600]        0\n",
       "(23300, 23400]        0\n",
       "(21900, 22000]        0\n",
       "(23200, 23300]        0\n",
       "(23100, 23200]        0\n",
       "(23000, 23100]        0\n",
       "(22800, 22900]        0\n",
       "(22700, 22800]        0\n",
       "(22600, 22700]        0\n",
       "(22500, 22600]        0\n",
       "(22400, 22500]        0\n",
       "(22300, 22400]        0\n",
       "(22200, 22300]        0\n",
       "(22100, 22200]        0\n",
       "(22000, 22100]        0\n",
       "(18700, 18800]        0\n",
       "(18500, 18600]        0\n",
       "(12200, 12300]        0\n",
       "(18400, 18500]        0\n",
       "(15300, 15400]        0\n",
       "(15200, 15300]        0\n",
       "(15100, 15200]        0\n",
       "(15000, 15100]        0\n",
       "(14900, 15000]        0\n",
       "(14800, 14900]        0\n",
       "(14700, 14800]        0\n",
       "(14600, 14700]        0\n",
       "(14500, 14600]        0\n",
       "(14400, 14500]        0\n",
       "(14300, 14400]        0\n",
       "(14200, 14300]        0\n",
       "(14100, 14200]        0\n",
       "(14000, 14100]        0\n",
       "(13800, 13900]        0\n",
       "(13700, 13800]        0\n",
       "(13600, 13700]        0\n",
       "(13500, 13600]        0\n",
       "(13400, 13500]        0\n",
       "(13300, 13400]        0\n",
       "(13100, 13200]        0\n",
       "(12900, 13000]        0\n",
       "(12800, 12900]        0\n",
       "(12600, 12700]        0\n",
       "(12500, 12600]        0\n",
       "(24700, 24800]        0\n",
       "(12300, 12400]        0\n",
       "(15400, 15500]        0\n",
       "(15500, 15600]        0\n",
       "(15600, 15700]        0\n",
       "(17100, 17200]        0\n",
       "(18300, 18400]        0\n",
       "(18200, 18300]        0\n",
       "(18100, 18200]        0\n",
       "(18000, 18100]        0\n",
       "(17900, 18000]        0\n",
       "(17800, 17900]        0\n",
       "(17700, 17800]        0\n",
       "(17600, 17700]        0\n",
       "(17500, 17600]        0\n",
       "(17400, 17500]        0\n",
       "(17300, 17400]        0\n",
       "(17200, 17300]        0\n",
       "(17000, 17100]        0\n",
       "(15700, 15800]        0\n",
       "(16900, 17000]        0\n",
       "(16800, 16900]        0\n",
       "(16700, 16800]        0\n",
       "(16600, 16700]        0\n",
       "(16500, 16600]        0\n",
       "(16400, 16500]        0\n",
       "(16300, 16400]        0\n",
       "(16200, 16300]        0\n",
       "(16100, 16200]        0\n",
       "(16000, 16100]        0\n",
       "(15900, 16000]        0\n",
       "(15800, 15900]        0\n",
       "(12400, 12500]        0\n",
       "Name: price, dtype: int64"
      ]
     },
     "execution_count": 94,
     "metadata": {},
     "output_type": "execute_result"
    }
   ],
   "source": [
    "# price\n",
    "# 对于价格，可以看下所有商品价格的分布，这样可以知道什么价格的商品卖的最好\n",
    "# 先按照100的区间取分桶，价格是分，这里为了好看把他转成元\n",
    "bins = np.arange(0, 25000, 100)\n",
    "pd.cut(df.price, bins).value_counts()"
   ]
  },
  {
   "cell_type": "markdown",
   "metadata": {},
   "source": [
    "### 数据可视化"
   ]
  },
  {
   "cell_type": "code",
   "execution_count": 95,
   "metadata": {},
   "outputs": [
    {
     "data": {
      "text/plain": [
       "(array([9.9200e+02, 7.0420e+03, 9.9660e+03, 1.0745e+04, 1.4758e+04,\n",
       "        9.2490e+03, 8.7730e+03, 7.1320e+03, 2.8580e+03, 3.2110e+03,\n",
       "        4.7370e+03, 1.8420e+03, 1.1770e+03, 1.8600e+03, 1.6440e+03,\n",
       "        5.8700e+02, 1.7750e+03, 2.2170e+03, 6.6800e+02, 1.8000e+03,\n",
       "        2.8160e+03, 6.4000e+02, 2.8400e+02, 2.8200e+02, 4.7200e+02,\n",
       "        1.9600e+02, 7.0300e+02, 8.2200e+02, 1.8300e+02, 7.3400e+02,\n",
       "        1.1970e+03, 2.5600e+02, 1.0300e+02, 1.2000e+02, 1.0700e+02,\n",
       "        4.1000e+01, 1.0600e+02, 2.1400e+02, 9.0000e+01, 3.6000e+02,\n",
       "        5.0700e+02, 9.9000e+01, 6.8000e+01, 2.4000e+01, 3.0000e+01,\n",
       "        1.2000e+01, 5.2000e+01, 4.5000e+01, 1.5000e+01, 6.6000e+01,\n",
       "        1.5300e+02, 5.0000e+01, 1.6000e+01, 2.2000e+01, 1.7000e+01,\n",
       "        1.0000e+00, 2.2000e+01, 1.0000e+01, 1.0000e+01, 4.0000e+01,\n",
       "        4.8000e+01, 1.6000e+01, 7.0000e+00, 1.1000e+01, 2.0000e+00,\n",
       "        6.0000e+00, 3.0000e+00, 4.7000e+01, 6.0000e+00, 2.8000e+01,\n",
       "        3.2000e+01, 6.0000e+00, 3.0000e+00, 0.0000e+00, 0.0000e+00,\n",
       "        1.0000e+00, 1.0000e+00, 0.0000e+00, 6.0000e+00, 9.0000e+00,\n",
       "        1.1000e+01, 1.0000e+00, 0.0000e+00, 0.0000e+00, 0.0000e+00,\n",
       "        0.0000e+00, 1.0000e+00, 1.0000e+00, 0.0000e+00, 1.6000e+01,\n",
       "        1.1000e+01, 8.0000e+00, 3.0000e+00, 0.0000e+00, 0.0000e+00,\n",
       "        0.0000e+00, 0.0000e+00, 0.0000e+00, 0.0000e+00, 2.0000e+00,\n",
       "        1.1000e+01, 1.0000e+00, 0.0000e+00, 0.0000e+00, 0.0000e+00,\n",
       "        0.0000e+00, 0.0000e+00, 0.0000e+00, 0.0000e+00, 1.0000e+00,\n",
       "        4.0000e+00, 0.0000e+00, 0.0000e+00, 0.0000e+00, 0.0000e+00,\n",
       "        0.0000e+00, 0.0000e+00, 0.0000e+00, 0.0000e+00, 0.0000e+00,\n",
       "        0.0000e+00, 0.0000e+00, 0.0000e+00, 0.0000e+00, 0.0000e+00,\n",
       "        0.0000e+00, 0.0000e+00, 1.0000e+00, 0.0000e+00, 0.0000e+00,\n",
       "        2.0000e+00, 0.0000e+00, 1.0000e+00, 0.0000e+00, 0.0000e+00,\n",
       "        0.0000e+00, 0.0000e+00, 0.0000e+00, 0.0000e+00, 1.0000e+00,\n",
       "        0.0000e+00, 0.0000e+00, 0.0000e+00, 0.0000e+00, 0.0000e+00,\n",
       "        0.0000e+00, 0.0000e+00, 0.0000e+00, 0.0000e+00, 0.0000e+00,\n",
       "        0.0000e+00, 0.0000e+00, 0.0000e+00, 0.0000e+00, 0.0000e+00,\n",
       "        0.0000e+00, 0.0000e+00, 0.0000e+00, 0.0000e+00, 0.0000e+00,\n",
       "        0.0000e+00, 0.0000e+00, 0.0000e+00, 0.0000e+00, 0.0000e+00,\n",
       "        0.0000e+00, 0.0000e+00, 0.0000e+00, 0.0000e+00, 0.0000e+00,\n",
       "        0.0000e+00, 0.0000e+00, 0.0000e+00, 0.0000e+00, 0.0000e+00,\n",
       "        0.0000e+00, 0.0000e+00, 0.0000e+00, 0.0000e+00, 0.0000e+00,\n",
       "        0.0000e+00, 0.0000e+00, 0.0000e+00, 0.0000e+00, 0.0000e+00,\n",
       "        0.0000e+00, 0.0000e+00, 0.0000e+00, 0.0000e+00, 1.0000e+00,\n",
       "        0.0000e+00, 0.0000e+00, 0.0000e+00, 0.0000e+00, 0.0000e+00,\n",
       "        0.0000e+00, 0.0000e+00, 0.0000e+00, 0.0000e+00, 0.0000e+00,\n",
       "        0.0000e+00, 0.0000e+00, 0.0000e+00, 0.0000e+00, 0.0000e+00,\n",
       "        0.0000e+00, 0.0000e+00, 0.0000e+00, 0.0000e+00, 0.0000e+00,\n",
       "        0.0000e+00, 0.0000e+00, 0.0000e+00, 0.0000e+00, 0.0000e+00,\n",
       "        0.0000e+00, 0.0000e+00, 0.0000e+00, 0.0000e+00, 0.0000e+00,\n",
       "        0.0000e+00, 0.0000e+00, 0.0000e+00, 0.0000e+00, 0.0000e+00,\n",
       "        0.0000e+00, 0.0000e+00, 0.0000e+00, 0.0000e+00, 2.0000e+00,\n",
       "        0.0000e+00, 0.0000e+00, 0.0000e+00, 0.0000e+00, 0.0000e+00,\n",
       "        0.0000e+00, 0.0000e+00, 0.0000e+00, 0.0000e+00, 0.0000e+00,\n",
       "        0.0000e+00, 0.0000e+00, 0.0000e+00, 0.0000e+00, 0.0000e+00,\n",
       "        0.0000e+00, 0.0000e+00, 0.0000e+00, 0.0000e+00]),\n",
       " array([    0,   100,   200,   300,   400,   500,   600,   700,   800,\n",
       "          900,  1000,  1100,  1200,  1300,  1400,  1500,  1600,  1700,\n",
       "         1800,  1900,  2000,  2100,  2200,  2300,  2400,  2500,  2600,\n",
       "         2700,  2800,  2900,  3000,  3100,  3200,  3300,  3400,  3500,\n",
       "         3600,  3700,  3800,  3900,  4000,  4100,  4200,  4300,  4400,\n",
       "         4500,  4600,  4700,  4800,  4900,  5000,  5100,  5200,  5300,\n",
       "         5400,  5500,  5600,  5700,  5800,  5900,  6000,  6100,  6200,\n",
       "         6300,  6400,  6500,  6600,  6700,  6800,  6900,  7000,  7100,\n",
       "         7200,  7300,  7400,  7500,  7600,  7700,  7800,  7900,  8000,\n",
       "         8100,  8200,  8300,  8400,  8500,  8600,  8700,  8800,  8900,\n",
       "         9000,  9100,  9200,  9300,  9400,  9500,  9600,  9700,  9800,\n",
       "         9900, 10000, 10100, 10200, 10300, 10400, 10500, 10600, 10700,\n",
       "        10800, 10900, 11000, 11100, 11200, 11300, 11400, 11500, 11600,\n",
       "        11700, 11800, 11900, 12000, 12100, 12200, 12300, 12400, 12500,\n",
       "        12600, 12700, 12800, 12900, 13000, 13100, 13200, 13300, 13400,\n",
       "        13500, 13600, 13700, 13800, 13900, 14000, 14100, 14200, 14300,\n",
       "        14400, 14500, 14600, 14700, 14800, 14900, 15000, 15100, 15200,\n",
       "        15300, 15400, 15500, 15600, 15700, 15800, 15900, 16000, 16100,\n",
       "        16200, 16300, 16400, 16500, 16600, 16700, 16800, 16900, 17000,\n",
       "        17100, 17200, 17300, 17400, 17500, 17600, 17700, 17800, 17900,\n",
       "        18000, 18100, 18200, 18300, 18400, 18500, 18600, 18700, 18800,\n",
       "        18900, 19000, 19100, 19200, 19300, 19400, 19500, 19600, 19700,\n",
       "        19800, 19900, 20000, 20100, 20200, 20300, 20400, 20500, 20600,\n",
       "        20700, 20800, 20900, 21000, 21100, 21200, 21300, 21400, 21500,\n",
       "        21600, 21700, 21800, 21900, 22000, 22100, 22200, 22300, 22400,\n",
       "        22500, 22600, 22700, 22800, 22900, 23000, 23100, 23200, 23300,\n",
       "        23400, 23500, 23600, 23700, 23800, 23900, 24000, 24100, 24200,\n",
       "        24300, 24400, 24500, 24600, 24700, 24800, 24900]),\n",
       " <a list of 249 Patch objects>)"
      ]
     },
     "execution_count": 95,
     "metadata": {},
     "output_type": "execute_result"
    },
    {
     "data": {
      "image/png": "[encoded data removed]",
      "text/plain": [
       "<Figure size 432x288 with 1 Axes>"
      ]
     },
     "metadata": {
      "needs_background": "light"
     },
     "output_type": "display_data"
    }
   ],
   "source": [
    "# 直方图\n",
    "# 觉得尺寸小的话可以先设置下figsize，觉得后面的值没有必要展示，可以不用25000，改成10000：plt.figure(figsize=(16, 16))\n",
    "plt.hist(df['price'], bins)"
   ]
  },
  {
   "cell_type": "code",
   "execution_count": 27,
   "metadata": {},
   "outputs": [
    {
     "data": {
      "text/plain": [
       "CategoricalIndex([(11300, 11400], (10800, 10900], (10600, 10700],\n",
       "                  (10700, 10800], (11800, 11900], (10500, 10600],\n",
       "                  (11700, 11800], (11400, 11500], (11100, 11200],\n",
       "                  (11200, 11300],\n",
       "                  ...\n",
       "                  (16600, 16700], (16500, 16600], (16400, 16500],\n",
       "                  (16300, 16400], (16200, 16300], (16100, 16200],\n",
       "                  (16000, 16100], (15900, 16000], (15800, 15900],\n",
       "                  (12400, 12500]],\n",
       "                 categories=[(0, 100], (100, 200], (200, 300], (300, 400], (400, 500], (500, 600], (600, 700], (700, 800], ...], ordered=True, dtype='category', length=153)"
      ]
     },
     "execution_count": 27,
     "metadata": {},
     "output_type": "execute_result"
    }
   ],
   "source": [
    "# 很多价格区间没有商品，如果有竞争对手的数据，可以看看是否需要补商品填充对应的价格区间\n",
    "price_cut_count = pd.cut(df.price, bins).value_counts()\n",
    "zero_cut_result = (price_cut_count == 0)\n",
    "zero_cut_result[zero_cut_result.values].index"
   ]
  },
  {
   "cell_type": "code",
   "execution_count": 98,
   "metadata": {},
   "outputs": [
    {
     "data": {
      "image/png": "[encoded data removed]",
      "text/plain": [
       "<Figure size 432x288 with 1 Axes>"
      ]
     },
     "metadata": {},
     "output_type": "display_data"
    }
   ],
   "source": [
    "# 按照1000分桶在看下\n",
    "bins = np.arange(0, 25000, 1000)\n",
    "price_cut = pd.cut(df.price, bins).value_counts()\n",
    "\n",
    "\n",
    "# 看看1000分桶的时候5000以下的饼图\n",
    "m = plt.pie(x=price_cut.values, labels=price_cut.index, autopct='%d%%', shadow=True)\n",
    "plt.tight_layout() # 自动调整子图间隔"
   ]
  },
  {
   "cell_type": "code",
   "execution_count": 29,
   "metadata": {},
   "outputs": [
    {
     "data": {
      "text/plain": [
       "<matplotlib.axes._subplots.AxesSubplot at 0x7f9506aa99a0>"
      ]
     },
     "execution_count": 29,
     "metadata": {},
     "output_type": "execute_result"
    },
    {
     "data": {
      "image/png": "[encoded data removed]",
      "text/plain": [
       "<Figure size 432x288 with 1 Axes>"
      ]
     },
     "metadata": {
      "needs_background": "light"
     },
     "output_type": "display_data"
    }
   ],
   "source": [
    "# channelId\n",
    "# 渠道的分析类似于productId，可以给出成交量最多的渠道，订单数最多的渠道等，渠道很多时候是需要花钱买流量的，所以还需要根据渠道的盈利情况和渠道成本进行综合比较，同时也可以渠道和商品等多个维度综合分析，看看不同的卖的最好的商品是否相同\n",
    "\n",
    "# 下单时间分析\n",
    "# 按小时的下单量分布，可以按时间做推广\n",
    "# 中午12， 13， 14点下单比较多，应该是午休的时候，然后是晚上20点左右，晚上20点左右几乎是所有互联网产品的一个高峰，下单高峰要注意网站的稳定性、可用性\n",
    "df['orderHour'] = df.createTime.dt.hour\n",
    "df.groupby('orderHour').count()['orderId'].plot()"
   ]
  },
  {
   "cell_type": "code",
   "execution_count": 30,
   "metadata": {},
   "outputs": [
    {
     "data": {
      "text/plain": [
       "orderWeek\n",
       "0    12503\n",
       "1    12484\n",
       "2    12932\n",
       "3    13794\n",
       "4    16198\n",
       "5    19496\n",
       "6    16922\n",
       "Name: orderId, dtype: int64"
      ]
     },
     "execution_count": 30,
     "metadata": {},
     "output_type": "execute_result"
    }
   ],
   "source": [
    "# 按照星期来看，周六下单最多，其次是周四周五\n",
    "df['orderWeek'] = df.createTime.dt.dayofweek\n",
    "df.groupby('orderWeek').count()['orderId']"
   ]
  },
  {
   "cell_type": "code",
   "execution_count": 31,
   "metadata": {},
   "outputs": [
    {
     "data": {
      "text/plain": [
       "(0, 50]            79229\n",
       "(100, 1000]        12899\n",
       "(50, 100]          10674\n",
       "(1000, 10000]        968\n",
       "(10000, 100000]      231\n",
       "Name: payDelta, dtype: int64"
      ]
     },
     "execution_count": 31,
     "metadata": {},
     "output_type": "execute_result"
    }
   ],
   "source": [
    "# 下单后多久支付\n",
    "def get_seconds(x):\n",
    "    return x.total_seconds()\n",
    "df['payDelta'] = (df['payTime'] - df['createTime']).apply(get_seconds)\n",
    "\n",
    "bins = [0, 50, 100, 1000, 10000, 100000]\n",
    "pd.cut(df.payDelta, bins).value_counts()"
   ]
  },
  {
   "cell_type": "code",
   "execution_count": 32,
   "metadata": {},
   "outputs": [
    {
     "data": {
      "text/plain": [
       "<matplotlib.axes._subplots.AxesSubplot at 0x7f9506ae4d60>"
      ]
     },
     "execution_count": 32,
     "metadata": {},
     "output_type": "execute_result"
    },
    {
     "data": {
      "image/png": "[encoded data removed]",
      "text/plain": [
       "<Figure size 720x720 with 1 Axes>"
      ]
     },
     "metadata": {},
     "output_type": "display_data"
    }
   ],
   "source": [
    "# 饼图看下，有重合的话可以改下bins\n",
    "# 绝大部分都在十几分钟之内支付完成，说明用户基本很少犹豫，购买的目的性很强\n",
    "pd.cut(df.payDelta, bins).value_counts().plot(kind='pie', autopct='%d%%', shadow=True, figsize=(10, 10))"
   ]
  },
  {
   "cell_type": "code",
   "execution_count": 33,
   "metadata": {},
   "outputs": [
    {
     "data": {
      "text/plain": [
       "<matplotlib.axes._subplots.AxesSubplot at 0x7f95038eaca0>"
      ]
     },
     "execution_count": 33,
     "metadata": {},
     "output_type": "execute_result"
    },
    {
     "data": {
      "image/png": "[encoded data removed]",
      "text/plain": [
       "<Figure size 432x288 with 1 Axes>"
      ]
     },
     "metadata": {
      "needs_background": "light"
     },
     "output_type": "display_data"
    }
   ],
   "source": [
    "# 月成交额\n",
    "# 先把创建订单的时间设置为索引\n",
    "df.set_index('createTime', inplace=True)\n",
    "turnover = df.resample('M').sum()['payMoney']\n",
    "order_count = df.resample('M').count()['orderId']\n",
    "\n",
    "turnover.plot()\n"
   ]
  },
  {
   "cell_type": "code",
   "execution_count": null,
   "metadata": {},
   "outputs": [],
   "source": []
  }
 ],
 "metadata": {
  "kernelspec": {
   "display_name": "Python 3",
   "language": "python",
   "name": "python3"
  },
  "language_info": {
   "codemirror_mode": {
    "name": "ipython",
    "version": 3
   },
   "file_extension": ".py",
   "mimetype": "text/x-python",
   "name": "python",
   "nbconvert_exporter": "python",
   "pygments_lexer": "ipython3",
   "version": "3.8.2"
  },
  "toc": {
   "base_numbering": 1,
   "nav_menu": {},
   "number_sections": true,
   "sideBar": true,
   "skip_h1_title": false,
   "title_cell": "Table of Contents",
   "title_sidebar": "Contents",
   "toc_cell": false,
   "toc_position": {},
   "toc_section_display": true,
   "toc_window_display": true
  }
 },
 "nbformat": 4,
 "nbformat_minor": 4
}
